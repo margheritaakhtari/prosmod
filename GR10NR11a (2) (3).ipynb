{
 "cells": [
  {
   "cell_type": "markdown",
   "metadata": {},
   "source": [
    "# Assignment 11a, GR10NR11\n",
    "\n",
    "In this assigment, the c-curves were established for different fractions of the alloy AA6082 along with the T-t curves for different cooling conditions. "
   ]
  },
  {
   "cell_type": "code",
   "execution_count": 31,
   "metadata": {
    "scrolled": true
   },
   "outputs": [],
   "source": [
    "import matplotlib.pyplot as plt\n",
    "import numpy as np\n",
    "from scipy.optimize import fsolve\n",
    "import warnings\n",
    "warnings.filterwarnings('ignore')\n",
    "import ipywidgets as widgets\n",
    "from IPython.display import display\n",
    "from IPython.html.widgets import *\n",
    "from IPython.display import clear_output\n",
    "import pandas as pd\n",
    "import random as rd\n",
    "import scipy\n",
    "\n",
    "newparams = {'figure.figsize': (15, 9), 'axes.grid': False,\n",
    "             'lines.markersize': 10, 'lines.linewidth': 2,\n",
    "             'font.size': 15, 'mathtext.fontset': 'stix',\n",
    "             'font.family': 'STIXGeneral', 'figure.dpi': 200}\n",
    "plt.rcParams.update(newparams)"
   ]
  },
  {
   "cell_type": "code",
   "execution_count": 32,
   "metadata": {
    "scrolled": true
   },
   "outputs": [],
   "source": [
    "#constants for c-curve\n",
    "Teq = 500+273 #Kelvin\n",
    "A_0 = 420 #J/mol\n",
    "Qd = 130000 #J/mol\n",
    "Tr = 300+273 #Kelvin\n",
    "tr = 10 #s\n",
    "n = 0.75\n",
    "Xc = 0.05\n",
    "R = 8.314 #J/Kmol\n",
    "\n",
    "X = np.arange(0.05, 1, 0.1)\n",
    "T1 = np.linspace(500+273, 270+273, 1000)"
   ]
  },
  {
   "cell_type": "markdown",
   "metadata": {},
   "source": [
    "## C-curve\n",
    "\n",
    "To construct the C-curves, the following equations were used:\n",
    "\n",
    "$$ t^{*} = t_{r}  exp(\\frac{A_{0}}{R}(\\frac{T_{eq}^{2}}{T(T_{eq}-T)^{2}}-\\frac{T_{eq}^{2}}{T_{r}(T_{eq}-T_{r})^{2}}+\\frac{Q_{d}}{R}(\\frac{1}{T}-\\frac{1}{T_{r}})) $$\n",
    "\n",
    "where the r refers to a given reference condition, A0 is a parameter that reflects the barrier against nucleation in the material, $T_{eq}$ is an equilibrium parameter for the phase transformation, and $Q_{d}$ is the activation energy for diffusion in the material. R is the gas constant, T is the temperature and t is the time.\n",
    "\n",
    "$$ t = t^{*}(\\frac{ln(1-X)}{ln(1-X_{C}})^{\\frac{1}{n}} $$"
   ]
  },
  {
   "cell_type": "code",
   "execution_count": 33,
   "metadata": {
    "scrolled": true
   },
   "outputs": [],
   "source": [
    "def t_star(T):\n",
    "    ts = tr*np.exp((A_0/R)*(((Teq**2)/(T*(Teq-T)**2))-(Teq**2/(Tr*(Teq-Tr)**2)))+(Qd/R)*((1/T)-(1/Tr)))\n",
    "    return ts\n",
    "\n",
    "\n",
    "def t(frac):\n",
    "    t = np.zeros(len(T1))\n",
    "    for i in range(len(T1)):\n",
    "        ts = t_star(T1[i])\n",
    "        t[i] = ts*(np.log(1-frac)/np.log(1-Xc))**(1/n)\n",
    "    return t\n",
    "\n",
    "\n",
    "def Cplot():\n",
    "    colors = ['crimson', 'red', 'orange', 'chartreuse', 'limegreen', 'turquoise', 'cyan', 'blue','purple', 'hotpink']\n",
    "    col = 0\n",
    "    for i in range(len(X)):\n",
    "        t1 = t(X[i])\n",
    "        plt.plot(t1, T1, label='X =' + str(np.round(X[i], 2)), color=colors[col])\n",
    "        col += 1\n",
    "    plt.grid()\n",
    "    plt.title('C-curve for AA6082')\n",
    "    plt.xscale('log')\n",
    "    plt.xlabel('log t')\n",
    "    plt.xlim(10**(-1), 10**7)\n",
    "    plt.ylabel('Temperature, C')\n",
    "    plt.legend(title='Fraction transformed:')\n",
    "    plt.show()\n"
   ]
  },
  {
   "cell_type": "markdown",
   "metadata": {},
   "source": [
    "## Jominy-stab\n",
    "\n",
    "The following equation was used to construct the T-t profile for jominy test:\n",
    "\n",
    "$$ \\frac{T-T_{0}}{T_{i}-T_{0}} = erf (\\frac{x}{2\\sqrt{at}}) $$\n",
    "\n",
    "where Ti is the initial temperature of the stick, T0 is the temperature at the end of the stick where it is quenched and a is the thermal diffusivity of the material."
   ]
  },
  {
   "cell_type": "code",
   "execution_count": 34,
   "metadata": {
    "scrolled": true
   },
   "outputs": [],
   "source": [
    "#constants\n",
    "Ti = 550+273 #Celcius\n",
    "T0 = 20+273 #Celcius\n",
    "a = 62 #mm2/s"
   ]
  },
  {
   "cell_type": "code",
   "execution_count": 106,
   "metadata": {
    "scrolled": true
   },
   "outputs": [],
   "source": [
    "x = np.arange(10, 101, 10)\n",
    "tj = np.logspace(-2, 6, 100)\n",
    "\n",
    "def jominy(pos):\n",
    "    T = np.zeros(len(tj))\n",
    "    for i in range(len(T)):\n",
    "        T2 = T0 + (Ti-T0)*scipy.special.erf(pos/(2*np.sqrt(a*tj[i])))\n",
    "        if T2 > 308:\n",
    "            T[i] = T2\n",
    "    return np.trim_zeros(T)\n",
    "\n",
    "def jplot(valg):\n",
    "    colors = ['darkblue','royalblue','teal', 'limegreen','greenyellow', 'gold', 'darkorange','coral', 'red', 'chocolate']\n",
    "    col = 0\n",
    "    for i in range(len(x)):\n",
    "        j=jominy(x[i])\n",
    "        plt.plot(tj[:len(j)], j, label='x = ' + str(np.round(x[i], 2)) + 'mm', color=colors[col])\n",
    "        col +=1\n",
    "    if valg == 'Yes':\n",
    "        colors1 = ['crimson', 'red', 'orange', 'chartreuse', 'limegreen', 'turquoise', 'cyan', 'blue','purple', 'hotpink']\n",
    "        col1 = 0\n",
    "        for i in range(len(X)):\n",
    "            t1 = t(X[i])\n",
    "            plt.plot(t1, T1, label='X =' + str(np.round(X[i], 2)), linestyle='--', color=colors1[col1])\n",
    "            col1 +=1\n",
    "    plt.grid()\n",
    "    plt.title('Jominy-stick')\n",
    "    plt.xscale('log')\n",
    "    plt.xlabel('log t')\n",
    "    plt.ylabel('Temperature, K')\n",
    "    plt.xlim(0.1, 10**5)\n",
    "    plt.legend()\n",
    "    plt.show()"
   ]
  },
  {
   "cell_type": "markdown",
   "metadata": {},
   "source": [
    "## Extrusion\n",
    "\n",
    "The following equation was used to construct the T-t profile for extrusion:\n",
    "\n",
    "$$ \\frac{T-T_{0}}{T_{i}-T_{0}} = exp(-\\frac{2h}{w\\rho_{c}}t) $$\n",
    "\n",
    "where h is the heat transfer coefficient, $\\rho_{c}$ is the specific heat capacity of the material per unit volume and w is the wall thickness of the profile."
   ]
  },
  {
   "cell_type": "code",
   "execution_count": 107,
   "metadata": {
    "scrolled": true
   },
   "outputs": [],
   "source": [
    "#constants\n",
    "rhoc = 0.0027*10**(9) #J/m3C\n",
    "w = 10*10**(-3) #m\n",
    "h = np.array([10, 100, 10000])\n"
   ]
  },
  {
   "cell_type": "code",
   "execution_count": 123,
   "metadata": {
    "scrolled": true
   },
   "outputs": [],
   "source": [
    "def extrusion(h):\n",
    "    T = np.zeros(len(tj))\n",
    "    for i in range(len(tj)):\n",
    "        T2 = T0 + (Ti-T0)*np.exp((-(2*h)/(w*rhoc))*tj[i])\n",
    "        if T2 > 308:\n",
    "            T[i] = T2\n",
    "    return np.trim_zeros(T)\n",
    "\n",
    "def eplot(valg):\n",
    "    colors = ['steelblue','darkcyan','deepskyblue']\n",
    "    labels = ['Air','Fan', 'Water']\n",
    "    col = 0\n",
    "    for i in range(len(h)):\n",
    "        e = extrusion(h[i])\n",
    "        plt.plot(tj[:len(e)], e, label=str(labels[i])+ ': ' + str(np.round(h[i], 2))+'W/m^2C', color=colors[col])\n",
    "        col +=1\n",
    "    if valg == 'Yes':\n",
    "        colors1 = ['crimson', 'red', 'orange', 'chartreuse', 'limegreen', 'turquoise', 'cyan', 'blue','purple', 'hotpink']\n",
    "        col1 = 0\n",
    "        for i in range(len(X)):\n",
    "            t1 = t(X[i])\n",
    "            plt.plot(t1, T1, label='X =' + str(np.round(X[i], 2)), linestyle='--', color=colors1[col1])\n",
    "            col1 +=1\n",
    "    plt.grid()\n",
    "    plt.title('Extrusion')\n",
    "    plt.xscale('log')\n",
    "    plt.xlabel('log t')\n",
    "    plt.ylabel('Temperature, K')\n",
    "    plt.xlim(0.1, 10**5)\n",
    "    plt.legend()\n",
    "    plt.show()\n"
   ]
  },
  {
   "cell_type": "markdown",
   "metadata": {},
   "source": [
    "## Welding\n",
    "\n",
    "The following equation was used to construct the T-t profile for welding:\n",
    "\n",
    "$$ T-T_{0} = \\frac{q_{0}/vd}{\\rho_{c}\\sqrt{4\\pi at}} exp(-\\frac{y^{2}}{4at}) $$\n",
    "\n",
    "where $q_{0}$ is the net effect added through welding, v is the welding speed, d is the plate thickness and y is the distance in the transversal direction of the plate measured from the centre of the weld. "
   ]
  },
  {
   "cell_type": "code",
   "execution_count": 120,
   "metadata": {
    "scrolled": true
   },
   "outputs": [],
   "source": [
    "#constants\n",
    "q0vd = np.array([0.05*10**9, 0.1*10**9, 0.2*10**9])\n",
    "a2 = 62*10**(-6) #m2/s"
   ]
  },
  {
   "cell_type": "code",
   "execution_count": 128,
   "metadata": {
    "scrolled": false
   },
   "outputs": [],
   "source": [
    "tw = np.logspace(-4, 4, 500)\n",
    "\n",
    "def welding(q0vd1, y):\n",
    "    T = np.zeros(len(tw))\n",
    "    for i in range(len(tw)):\n",
    "        dTdt = -(q0vd1*(2*a2*tw[i]-y**2)*np.exp(-y**2/(4*a2*tw[i])))/(8*np.sqrt(np.pi)*rhoc*tw[i]*(a2*tw[i])**(3/2))\n",
    "        T2 = T0 + (q0vd1/(rhoc*np.sqrt(4*np.pi*a2*tw[i])))*np.exp(-y**2/(4*a2*tw[i]))\n",
    "        if T2 > 308 or dTdt > 0:\n",
    "            T[i] = T2\n",
    "    return np.trim_zeros(T)\n",
    "\n",
    "\n",
    "def wplot(y):\n",
    "    colors = ['black','grey','deepskyblue']\n",
    "    labels = ['Laser','Arc', 'High energy plasma']\n",
    "    col = 0\n",
    "    for i in range(len(q0vd)):\n",
    "        plt.plot(tw[:len(welding(q0vd[i], y))], welding(q0vd[i], y),label=str(labels[i]) + ': ' +  str( np.round(q0vd[i]/10**8, 1))+ ' x 1e8', color=colors[col])\n",
    "        col +=1\n",
    "    plt.grid()\n",
    "    plt.title('Welding')\n",
    "    plt.xlabel('log t')\n",
    "    plt.xscale('log')\n",
    "    plt.ylabel('Temperature, K')\n",
    "    plt.legend(title='q0/vd [W/m^2C]:')\n",
    "    plt.show()"
   ]
  },
  {
   "cell_type": "markdown",
   "metadata": {},
   "source": [
    "## Interactive menu"
   ]
  },
  {
   "cell_type": "code",
   "execution_count": 129,
   "metadata": {
    "scrolled": false
   },
   "outputs": [
    {
     "data": {
      "application/vnd.jupyter.widget-view+json": {
       "model_id": "c51fc224b2384d09b817e637edfdaebe",
       "version_major": 2,
       "version_minor": 0
      },
      "text/plain": [
       "interactive(children=(ToggleButtons(button_style='danger', description='Plot:', options={'C-curves': 1, 'Jomin…"
      ]
     },
     "metadata": {},
     "output_type": "display_data"
    },
    {
     "data": {
      "text/plain": [
       "<function __main__.sub_task_chooser(sub)>"
      ]
     },
     "execution_count": 129,
     "metadata": {},
     "output_type": "execute_result"
    }
   ],
   "source": [
    "valgknapp = widgets.RadioButtons(options=[('Yes'), ('No')], value = 'No', description = 'C-curves?', layout={'width': 'max-content'})\n",
    "Yslider = widgets.FloatSlider(value = 0.001, min = 0.001, max = 0.1, step = 0.001, description='y [m]', continuous_update=False)\n",
    "\n",
    "\n",
    "color_picker = widgets.ColorPicker(description='Pick a color', value= \"purple\")\n",
    "\n",
    "def sub_task_chooser(sub):\n",
    "    \n",
    "    # Switch function\n",
    "    if sub == 1: #plotting for C-curves\n",
    "        widgets.interact(Cplot)          \n",
    "\n",
    "    elif sub == 2: #plotting for Jominy\n",
    "        widgets.interact(jplot, valg=valgknapp)\n",
    "        \n",
    "    elif sub == 3: #plotting for extrusion\n",
    "        widgets.interact(eplot, valg=valgknapp)\n",
    "        \n",
    "    elif sub == 4: #plotting for welding\n",
    "        print(\"y is distance in the transversal direction of the plate measured from the centre of the weld:\")\n",
    "        widgets.interact(wplot, y=Yslider)\n",
    "        \n",
    "        \n",
    "\n",
    "# Menu toggle buttons\n",
    "sub_menu = widgets.ToggleButtons(options={'C-curves':1, 'Jominy':2, 'Extrusion':3, 'Welding':4}, value = 1, description='Plot:', button_style='danger',)\n",
    "#red buttons\n",
    "\n",
    "interact(sub_task_chooser, sub=sub_menu)"
   ]
  },
  {
   "cell_type": "code",
   "execution_count": null,
   "metadata": {
    "scrolled": true
   },
   "outputs": [],
   "source": []
  },
  {
   "cell_type": "code",
   "execution_count": null,
   "metadata": {
    "scrolled": true
   },
   "outputs": [],
   "source": []
  }
 ],
 "metadata": {
  "kernelspec": {
   "display_name": "Python 3",
   "language": "python",
   "name": "python3"
  },
  "language_info": {
   "codemirror_mode": {
    "name": "ipython",
    "version": 3
   },
   "file_extension": ".py",
   "mimetype": "text/x-python",
   "name": "python",
   "nbconvert_exporter": "python",
   "pygments_lexer": "ipython3",
   "version": "3.8.3"
  }
 },
 "nbformat": 4,
 "nbformat_minor": 4
}
