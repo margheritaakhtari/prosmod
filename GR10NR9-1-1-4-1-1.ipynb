{
 "cells": [
  {
   "cell_type": "markdown",
   "metadata": {},
   "source": [
    "# Assignment 9, GR10NR9\n",
    "\n",
    "This assignment calculates the hydrogen concentration in aluminium melt as a function of time. The change in hydrogen concentration during a small intervall dt is described by the realationship:\n",
    "\n",
    "$$\n",
    "\\begin{align*}\n",
    "\\frac{d[\\%H]}{dt}=-\\frac{100 M_H}{M}\\left[ \\frac{2 [\\%H]^2 f_H^2 K_H^2 G_m Z^2}{p_{in}} + \\frac{k_{ts} A_s \\rho ([\\%H]-[\\%H]_v)}{100 M_H}\\right]\\tag{1}\n",
    "\\label{eq1}\n",
    "\\end{align*}\n",
    "$$\n",
    "\n",
    "where everything but $[\\%H]$ are constants, and $Z$ is given by:\n",
    "\n",
    "$$\n",
    "\\begin{align*}\n",
    "-Z -ln(1-Z)= \\frac{\\rho k_t A p_{in}}{400 M_H G_m f_H^2 [\\%H] K_H^2}\\tag{2}\n",
    "\\label{eq2}\n",
    "\\end{align*}\n",
    "$$\n",
    "\n",
    "In order to find Z, two different methods were used; Newton's method and and a python function called scipy.opyimize.fsolve. The last method is referenced as Solver in the rest of the assignment. \n",
    "\n",
    "$A$ is the total surface area of the bubbles and given by the relationship:\n",
    "\n",
    "$$\n",
    "\\begin{align*}\n",
    "A = \\frac{6 G_v \\tau}{d_b} \\tag{3}\n",
    "\\label{eq3}\n",
    "\\end{align*}\n",
    "$$\n",
    "\n",
    "where $\\tau$ is the average time the bubbles stay in the melt and is given by:\n",
    "\n",
    "$$\n",
    "\\begin{align*}\n",
    "\\tau = \\frac{h}{0.32\\left(\\frac{0.004}{d_b} \\right)^{1/8}}\\tag{4}\n",
    "\\label{eq4}\n",
    "\\end{align*}\n",
    "$$"
   ]
  },
  {
   "cell_type": "code",
   "execution_count": 1,
   "metadata": {},
   "outputs": [],
   "source": [
    "import matplotlib.pyplot as plt\n",
    "import numpy as np\n",
    "from scipy.optimize import fsolve\n",
    "import warnings\n",
    "warnings.filterwarnings('ignore')\n",
    "import ipywidgets as widgets\n",
    "from IPython.display import display\n",
    "from IPython.html.widgets import *\n",
    "from IPython.display import clear_output\n",
    "import pandas as pd\n",
    "\n",
    "newparams = {'figure.figsize': (15, 9), 'axes.grid': False,\n",
    "             'lines.markersize': 10, 'lines.linewidth': 2,\n",
    "             'font.size': 15, 'mathtext.fontset': 'stix',\n",
    "             'font.family': 'STIXGeneral', 'figure.dpi': 200}\n",
    "plt.rcParams.update(newparams)"
   ]
  },
  {
   "cell_type": "code",
   "execution_count": 2,
   "metadata": {},
   "outputs": [],
   "source": [
    "#constants\n",
    "M = 200 #kg\n",
    "K_H  = 0.78*10**4 #atm**(0.5)\n",
    "k_ts = 2.3*10**(-3) #m/s\n",
    "kt = 2.3*10**(-4) #m/s\n",
    "h = 0.5 #m\n",
    "M_H = 1 #kg/kmol\n",
    "G_m = 4.5*10**(-6) #kmol/s\n",
    "A_s = 0.17 #m**2\n",
    "G_v = 22.4*G_m #m**3/s\n",
    "f_H = 1.75\n",
    "p_in = 1.0 #atm\n",
    "rho = 2350 #kg/m**3\n",
    "d_b = 0.004 #m"
   ]
  },
  {
   "cell_type": "markdown",
   "metadata": {},
   "source": [
    "### Calculating Z using Newton's method and/or fsolver"
   ]
  },
  {
   "cell_type": "code",
   "execution_count": 3,
   "metadata": {},
   "outputs": [],
   "source": [
    "tau = h/(0.32*(0.004/d_b)**(1/8))\n",
    "\n",
    "A = (6*G_v*tau)/d_b"
   ]
  },
  {
   "cell_type": "code",
   "execution_count": 4,
   "metadata": {},
   "outputs": [],
   "source": [
    "def funkZ(H, z):\n",
    "    K = (rho*kt*A*p_in)/(400*M_H*G_m*(f_H)**2*H*(K_H)**2)\n",
    "    Z = z+np.log(1-z)+K\n",
    "    return Z"
   ]
  },
  {
   "cell_type": "code",
   "execution_count": 5,
   "metadata": {},
   "outputs": [],
   "source": [
    "#Calculating Z by Newton's method:\n",
    "\n",
    "def dfZ(Z):\n",
    "    return 1-1/(1-Z)\n",
    "\n",
    "def newton(H):\n",
    "    Z0 = 0.5\n",
    "    tol = 10**(-4)\n",
    "    df = dfZ(Z0)\n",
    "    max_iter=30\n",
    "    \n",
    "    fZ = funkZ(H, Z0)\n",
    "    while abs(fZ) > tol:           # Accept the solution \n",
    "        Z0 = Z0 - fZ/dfZ(Z0)            # Newton-iteration\n",
    "        fZ = funkZ(H,Z0)\n",
    "    return Z0"
   ]
  },
  {
   "cell_type": "code",
   "execution_count": 6,
   "metadata": {},
   "outputs": [],
   "source": [
    "#Calculating Z by function scipy.optimize.fsolve:\n",
    "\n",
    "def Zsolve(Z0, H): #Mått lag en funksjon som tar inn funkZ ellers va fsolver = 0.5 hele tida.\n",
    "    x = funkZ(H, Z0)\n",
    "    return x\n",
    "\n",
    "def solver(H): #regner ut nye Z verdien\n",
    "    Z = fsolve(Zsolve, 0.5, args=H)\n",
    "    return Z\n"
   ]
  },
  {
   "cell_type": "code",
   "execution_count": 7,
   "metadata": {},
   "outputs": [],
   "source": [
    "#calculating dH/dt\n",
    "\n",
    "t = np.arange(0, 1010, 10) #want the time from 1-1000 seconds with 10s step.\n",
    "\n",
    "\n",
    "def dhdt(H, HV, valg):\n",
    "    if valg == 1: #newton\n",
    "        Z = newton(H)\n",
    "        dHdt1 = - (100* M_H/M)*((2*H**2*f_H**2*K_H**2*G_m*Z**2/p_in)+(k_ts*A_s*rho*((H-HV)/(100*M_H))))\n",
    "    else:\n",
    "        Z = solver(H)\n",
    "        dHdt1 = -(100* M_H/M)*((2*H**2*f_H**2*K_H**2*G_m*Z**2/p_in)+(k_ts*A_s*rho*((H-HV)/(100*M_H))))                                                                 \n",
    "    return dHdt1\n",
    "\n",
    "def rungekutta(H, HV, valg):\n",
    "    h = 10\n",
    "    y0 = H #er dette fordi y0 skal være den første verdien?\n",
    "    Hny = np.empty(0)\n",
    "    Hny = np.append(Hny, y0)  \n",
    "    \n",
    "    for i in range(len(t)-1):\n",
    "        \n",
    "        #making the RK4 steps:\n",
    "        \n",
    "        F1 = h * dhdt(y0, HV, valg)\n",
    "        F2 = h * dhdt(y0 + 1/2 * F1, HV, valg)\n",
    "        F3 = h * dhdt(y0 + 1/2 * F2, HV, valg)\n",
    "        F4 = h * dhdt(y0 + F3, HV, valg)\n",
    "        \n",
    "        #h+= \n",
    "        y0 = y0 + 1/6* (F1 + 2*F2 + 2*F3 + F4)\n",
    "        Hny = np.append(Hny, y0)\n",
    "    \n",
    "    return Hny"
   ]
  },
  {
   "cell_type": "markdown",
   "metadata": {},
   "source": [
    "### Z vs f(Z)"
   ]
  },
  {
   "cell_type": "code",
   "execution_count": 8,
   "metadata": {},
   "outputs": [],
   "source": [
    "def ZfZ(H, HV, valg):\n",
    "    Z = np.linspace(0, 0.99, 100)\n",
    "    Hverdier = rungekutta(H, HV, valg)\n",
    "    fZliste = np.empty(0)\n",
    "    plotH = np.empty(0)\n",
    "    \n",
    "    for h in range(0, len(Hverdier), 10):\n",
    "        hverdi = Hverdier[h]\n",
    "        plotH = np.append(plotH, hverdi)\n",
    "        \n",
    "        for i in range(len(Z)):\n",
    "            fZ = funkZ(hverdi, Z[i])\n",
    "            fZliste = np.append(fZliste, fZ)\n",
    "            \n",
    "    fZliste = np.split(fZliste, 11)\n",
    "    return Z, fZliste, plotH"
   ]
  },
  {
   "cell_type": "markdown",
   "metadata": {},
   "source": [
    "### Mean concentration\n"
   ]
  },
  {
   "cell_type": "code",
   "execution_count": 13,
   "metadata": {},
   "outputs": [],
   "source": [
    "def mean(Hliste):\n",
    "    \n",
    "    Hmean = np.empty(0)\n",
    "    for i in range(10, len(Hliste), 10):\n",
    "        Hsum = np.sum(Hliste[:i])\n",
    "        mean = (1/i)*Hsum\n",
    "        Hmean = np.append(Hmean, mean)\n",
    "    return Hmean"
   ]
  },
  {
   "cell_type": "markdown",
   "metadata": {},
   "source": [
    "### Plots"
   ]
  },
  {
   "cell_type": "code",
   "execution_count": 35,
   "metadata": {},
   "outputs": [],
   "source": [
    "def plotZfZ(H, HV, valg):\n",
    "    Z, fZliste, plotH = ZfZ(H*10**(-6), HV, valg)\n",
    "    colors = ['red', 'peachpuff', 'orange', 'chartreuse', 'limegreen', 'turquoise', 'cyan', 'blue', 'hotpink', 'crimson']\n",
    "    col = 0\n",
    "    for i in range(len(plotH)-1):\n",
    "        plt.plot(Z, fZliste[i], label=\"%H=\"+ str(np.round(plotH[i],7)), color=colors[col])\n",
    "        col += 1\n",
    "\n",
    "    for i in range(len(plotH)-1):\n",
    "        z=newton(plotH[i])\n",
    "        plt.scatter(z,0, color = 'grey')\n",
    "        plt.vlines(z, -1, 0, colors='grey',linestyle = '--' )\n",
    "    plt.axhline(y = 0, color = 'grey', linestyle = '--', label = \"f(Z) = 0\")\n",
    "    plt.legend()\n",
    "    plt.title('f(Z) vs. Z')\n",
    "    plt.xlabel('Z')\n",
    "    plt.ylabel('f(Z)')\n",
    "    plt.grid()\n",
    "    plt.xlim([0, 1])\n",
    "    plt.ylim([-1, 0.75])\n",
    "    plt.show()\n",
    "\n",
    "\n",
    "def plotHt(H, HV, valg, color1):\n",
    "    Hliste = rungekutta(H*10**(-6), HV, valg)\n",
    "    plt.plot(t, Hliste, label = \"H(t)\", color = color1)\n",
    "    plt.axhline(y = HV, color = \"grey\", linestyle = '--', label = \"H_v\")\n",
    "    plt.legend()\n",
    "    plt.title('H(t)')\n",
    "    plt.xlabel('t')\n",
    "    plt.ylabel('H[%]')\n",
    "    plt.grid()\n",
    "    \n",
    "    #Table for mean consentrations\n",
    "    tidny = np.empty(0)\n",
    "    Hmean = np.round(mean(Hliste), 10)\n",
    "    for i in range(10, len(t), 10):\n",
    "        tidny = np.append(tidny, t[i])\n",
    "    df = pd.DataFrame({\n",
    "        'Time, [s]': tidny,\n",
    "        'Mean concentration, H[%]': Hmean,\n",
    "        })\n",
    "    pd.options.display.precision = 10\n",
    "    display(df)\n",
    "    "
   ]
  },
  {
   "cell_type": "code",
   "execution_count": 36,
   "metadata": {},
   "outputs": [],
   "source": [
    "#def table(H, HV, valg):\n",
    "#    Hliste = rungekutta(H, HV, valg)\n",
    "    \n",
    "\n",
    "#print(table(15*10**(-6), 1*10**(-6), 1))"
   ]
  },
  {
   "cell_type": "markdown",
   "metadata": {},
   "source": [
    "### Menu"
   ]
  },
  {
   "cell_type": "code",
   "execution_count": 39,
   "metadata": {},
   "outputs": [
    {
     "data": {
      "application/vnd.jupyter.widget-view+json": {
       "model_id": "761fe74adeb4416eb7b0cd2f91a4b70f",
       "version_major": 2,
       "version_minor": 0
      },
      "text/plain": [
       "interactive(children=(ToggleButtons(button_style='primary', description='Plot:', options={'H(t)': 1, 'f(Z) vs …"
      ]
     },
     "metadata": {},
     "output_type": "display_data"
    },
    {
     "data": {
      "text/plain": [
       "<function __main__.sub_task_chooser(sub)>"
      ]
     },
     "execution_count": 39,
     "metadata": {},
     "output_type": "execute_result"
    }
   ],
   "source": [
    "valg_knapp = widgets.Dropdown(\n",
    "    options=[('Newton',1),('Solver',2)],\n",
    "    value = 1,\n",
    "    description='Z-method:',\n",
    "    disabled=False\n",
    ") \n",
    "\n",
    "Hslider = widgets.FloatSlider(value = 18, min = 15, max = 20, step = 1, description='H[%]*10^(-6)')\n",
    "\n",
    "HVknapp = widgets.ToggleButtons(options={'0.5*10**(-6)': 0.5*10**(-6), '1*10**(-6)':1*10**(-6), '1.5*10**(-6)': 1.5*10**(-6)}, value = 1*10**(-6), description='H_v[%]:',)\n",
    "\n",
    "color_picker = widgets.ColorPicker(description='Pick a color', value= \"purple\")\n",
    "\n",
    "def sub_task_chooser(sub):\n",
    "    \n",
    "    # Switch function\n",
    "    if sub == 1: #plotting for H(t)\n",
    "        widgets.interact(plotHt, H=Hslider, HV=HVknapp, valg = valg_knapp, color1 = color_picker)\n",
    "        \n",
    "            \n",
    "\n",
    "    elif sub == 2: #plotting for f(Z) vs. Z\n",
    "        widgets.interact(plotZfZ, H=Hslider, HV=HVknapp, valg = valg_knapp)\n",
    "        \n",
    "\n",
    "# Menu toggle buttons\n",
    "sub_menu = widgets.ToggleButtons(options={'H(t)':1, 'f(Z) vs Z':2}, value = 1, description='Plot:', button_style='primary',)\n",
    "#red buttons\n",
    "\n",
    "interact(sub_task_chooser, sub=sub_menu)"
   ]
  },
  {
   "cell_type": "code",
   "execution_count": null,
   "metadata": {},
   "outputs": [],
   "source": []
  },
  {
   "cell_type": "code",
   "execution_count": null,
   "metadata": {},
   "outputs": [],
   "source": []
  }
 ],
 "metadata": {
  "kernelspec": {
   "display_name": "Python 3",
   "language": "python",
   "name": "python3"
  },
  "language_info": {
   "codemirror_mode": {
    "name": "ipython",
    "version": 3
   },
   "file_extension": ".py",
   "mimetype": "text/x-python",
   "name": "python",
   "nbconvert_exporter": "python",
   "pygments_lexer": "ipython3",
   "version": "3.8.5"
  }
 },
 "nbformat": 4,
 "nbformat_minor": 4
}
