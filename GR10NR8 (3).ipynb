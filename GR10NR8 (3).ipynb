{
 "cells": [
  {
   "cell_type": "markdown",
   "metadata": {},
   "source": [
    "# Assignment 8, GR10NR8\n",
    "\n",
    "This program will illustrate a model that solves Fick’s 2nd law of diffusion in one dimension. The model will be used to investigate decarburization during heat treatment of a steel plate.\n",
    "\n",
    "The change in concentration over time is described by Fick's 2nd law:\n",
    "\n",
    "$$\n",
    "\\begin{align*}\n",
    "\\frac{\\partial c}{\\partial t} = D \\frac{\\partial^2 c}{\\partial x^2}\\tag{1}\n",
    "\\label{eq1}\n",
    "\\end{align*}\n",
    "$$\n",
    "\n",
    "where c is concentration, t is time, x is postition in the sample and $D$ is the diffusion constant given by:\n",
    "\n",
    "$$\n",
    "\\begin{align*}\n",
    "D = D_0 exp\\left(-\\frac{Q}{RT}\\right)\\tag{2}\n",
    "\\label{eq2}\n",
    "\\end{align*}\n",
    "$$\n",
    "\n",
    "where\n",
    "<ul>\n",
    "    <li> D<sub>0</sub> is a material constant and equal to 0.234*10<sup>-4</sup> </li>\n",
    "    <li> Q is the activation energy and equal to 1.478*10<sup>5</sup> J/mol </li>\n",
    "    <li> R is the gas constant </li>\n",
    "    <li> T is the temperature </sup>\n"
   ]
  },
  {
   "cell_type": "code",
   "execution_count": 207,
   "metadata": {},
   "outputs": [],
   "source": [
    "import matplotlib.pyplot as plt\n",
    "import numpy as np\n",
    "import warnings\n",
    "warnings.filterwarnings('ignore')\n",
    "import ipywidgets as widgets\n",
    "from IPython.display import display\n",
    "from IPython.html.widgets import *\n",
    "from IPython.display import clear_output\n",
    "import pandas as pd\n",
    "\n",
    "newparams = {'figure.figsize': (15, 9), 'axes.grid': False,\n",
    "             'lines.markersize': 10, 'lines.linewidth': 2,\n",
    "             'font.size': 15, 'mathtext.fontset': 'stix',\n",
    "             'font.family': 'STIXGeneral', 'figure.dpi': 200}\n",
    "plt.rcParams.update(newparams)"
   ]
  },
  {
   "cell_type": "code",
   "execution_count": 215,
   "metadata": {},
   "outputs": [],
   "source": [
    "#Constants\n",
    "D0 = 0.234*10**(-4) #m**2/s\n",
    "Q = 1.478*10**5 #J/mol\n",
    "R = 8.314 #J/mol*K\n",
    "L = 1*10**(-3) #m"
   ]
  },
  {
   "cell_type": "markdown",
   "metadata": {},
   "source": [
    "### Numerical solution\n",
    "\n",
    "The numerical solution is calculated by first finding the derivative with respect to position, $\\frac{\\Delta C}{\\Delta x}$ as well as the second derivative $\\frac{\\Delta^2 C}{\\Delta x^2}$. Afterwards $\\frac{\\Delta C}{\\Delta t}$ and $\\Delta C$ is calculated by Fick's 2nd law."
   ]
  },
  {
   "cell_type": "code",
   "execution_count": 208,
   "metadata": {},
   "outputs": [],
   "source": [
    "x = np.linspace(0, L/2, 20)\n",
    "dx = (x[1]-x[0])\n",
    "c0 = np.zeros(19)+1\n",
    "c0 = np.insert(c0, 0, 0)"
   ]
  },
  {
   "cell_type": "code",
   "execution_count": 209,
   "metadata": {},
   "outputs": [],
   "source": [
    "def ddcddx(c): #finding the first and secondary derivative of concentration with respect to position.\n",
    "    dcdx = np.zeros(20)\n",
    "    for i in range(1,len(c)):\n",
    "        dcdx[-i] = ((c[i]-c[i-1])/(dx))\n",
    "    dcdx = np.flip(dcdx) #in order to get all the values.\n",
    "    dcdx2 = []\n",
    "    for i in range(0, len(dcdx)-1):\n",
    "        dcdx2.append((dcdx[i+1]-dcdx[i])/dx)\n",
    "    return dcdx2"
   ]
  },
  {
   "cell_type": "code",
   "execution_count": 210,
   "metadata": {},
   "outputs": [],
   "source": [
    "#calculating the first derivative of concentration with respect to time using Fick's 2nd law.\n",
    "def dcdt(T, c): \n",
    "    D = D0*np.exp(-Q/(R*T))\n",
    "    dcdx2 = ddcddx(c)\n",
    "    #Values for dC/dt:\n",
    "    dcdt=np.empty(0)\n",
    "    for i in range(len(dcdx2)):\n",
    "        a = D*dcdx2[i]\n",
    "        dcdt = np.append(dcdt, a)\n",
    "    dcdt = np.insert(dcdt, 0, 0)\n",
    "    return dcdt  \n",
    "\n",
    "        \n",
    "#New values for the consentration using Fick's 2nd law.\n",
    "def cnew(T, dt,c):\n",
    "    dcdt1 = dcdt(T,c)\n",
    "    c_ny = c+dt*dcdt1\n",
    "    return c_ny"
   ]
  },
  {
   "cell_type": "code",
   "execution_count": 211,
   "metadata": {},
   "outputs": [],
   "source": [
    "#Calculating c(x) for all t in [0, 60]min\n",
    "def newCprofile(T, dt): \n",
    "    t = 0\n",
    "    liste = np.empty(0)\n",
    "    c = c0\n",
    "    while t <= 3600:\n",
    "        c = cnew(T, dt, c)\n",
    "        \n",
    "        if t % 300 == 0:\n",
    "            liste = np.append(liste, c)\n",
    "        t+=dt\n",
    "    liste = np.split(liste, 13)\n",
    "    return liste"
   ]
  },
  {
   "cell_type": "markdown",
   "metadata": {},
   "source": [
    "### Analytical solution\n",
    "\n",
    "The analytical concentrations were found by using the formula based on the Fourier series.\n",
    "\n",
    "$$ C(x,t) = \\frac{4C_{0}}{\\pi}\\sum_{i=0}^{k=\\infty}\\frac{1}{2i+1}sin(\\frac{(2i+1)\\pi(x)}{L}exp(-\\frac{t}{\\tau_{i}}) $$\n",
    "\n",
    "where\n",
    "\n",
    "$$ \\tau_{i} = \\frac{L^{2}}{(2i+1)^{2}\\pi^{2}D} $$\n",
    "\n",
    "where L is the thickness of the sample and $C_0$ is the initial concentration and equal to 1wt% in our case."
   ]
  },
  {
   "cell_type": "code",
   "execution_count": 212,
   "metadata": {},
   "outputs": [],
   "source": [
    "def analytical(T):\n",
    "    t = np.arange(300, 3601, 300)\n",
    "    D = D0*np.exp(-Q/(R*T))\n",
    "   \n",
    "    c_0 = 1\n",
    "    ca = np.zeros((len(t), len(x)))\n",
    "    for e in range(len(t)):\n",
    "        cx=np.zeros(len(c0))\n",
    "        for r in range(len(x)):\n",
    "            s = 0\n",
    "            for i in range(25):\n",
    "                tau = L**2/((2*i+1)**2*np.pi**2*D)\n",
    "                s += (4*c_0)/np.pi*(1/(2*i+1))*np.sin(((2*i+1)*np.pi*x[r])/L)*np.exp(-t[e]/tau)\n",
    "            cx[r] = s\n",
    "        ca[e] = cx        \n",
    "    return ca,t"
   ]
  },
  {
   "cell_type": "markdown",
   "metadata": {},
   "source": [
    "### Mean concentration\n",
    "\n",
    "The mean concentration is given by the following formula,\n",
    "\n",
    "$$ c = \\frac{1}{20}\\sum_{n=1}^{20}(c_{n}+c_{n+1})/2 $$"
   ]
  },
  {
   "cell_type": "code",
   "execution_count": null,
   "metadata": {},
   "outputs": [],
   "source": [
    "def meanC(c):\n",
    "    cmean = 0\n",
    "    for i in range(len(c)-1):\n",
    "        cmean += (1/20)*(c[i]+c[i+1])/2\n",
    "    return cmean"
   ]
  },
  {
   "cell_type": "markdown",
   "metadata": {},
   "source": [
    "### Plot"
   ]
  },
  {
   "cell_type": "code",
   "execution_count": 221,
   "metadata": {},
   "outputs": [],
   "source": [
    "#Plotting the graphs and making the table.\n",
    "def plot(T, dt):\n",
    "    D = D0*np.exp(-Q/(R*T))\n",
    "    if (D*dt)/dx**2 < 0.5:\n",
    "        colors = ['black','grey', 'brown', 'red', 'peachpuff', 'orange', 'chartreuse', 'limegreen', 'turquoise', 'cyan', 'blue', 'hotpink', 'crimson']\n",
    "        cn = newCprofile(T, dt)\n",
    "        ca, t = analytical(T)\n",
    "        plt.plot(x, c0, label='t =0 min', color='k')\n",
    "        col = 0\n",
    "        for i in range(len(t)):\n",
    "            plt.plot(x, ca[i], label=\"t =\"+ str(t[i]/60) + \" min\", color=colors[col+1])\n",
    "            plt.plot(x, cn[i], linestyle='--', color=colors[col])\n",
    "            col += 1\n",
    "        plt.legend()\n",
    "        plt.title('Numerical vs. Analytical concentration for diffusion')\n",
    "        plt.xlabel('Distance x, [m]')\n",
    "        plt.ylabel('Concentration of carbon, [%]')\n",
    "        plt.grid()\n",
    "        cam= np.empty(0)\n",
    "        cnm= np.empty(0)\n",
    "        for i in range(len(t)):\n",
    "            cam = np.append(cam, meanC(ca[i]))\n",
    "            cnm= np.append(cam, meanC(cn[i]))\n",
    "        cam = np.insert(cam,0, meanC(c0)) \n",
    "        t = np.insert(t, 0, 0)\n",
    "        df = pd.DataFrame({\n",
    "        'Time, [min]': t/60,\n",
    "        'Mean analytical concentration, [%]': np.round(cam, 3),\n",
    "        'Mean numerical concentration, [%]': np.round(cnm, 3),\n",
    "        })\n",
    "        display(df)\n",
    "    else:\n",
    "        print(\"Error! The values doesn't give a numerical stable solution, try with a lower dt or T\") "
   ]
  },
  {
   "cell_type": "markdown",
   "metadata": {},
   "source": [
    "### Interactive menu"
   ]
  },
  {
   "cell_type": "code",
   "execution_count": 222,
   "metadata": {},
   "outputs": [
    {
     "data": {
      "application/vnd.jupyter.widget-view+json": {
       "model_id": "e47bc66ae14a49fdbd7c1a6014206acc",
       "version_major": 2,
       "version_minor": 0
      },
      "text/plain": [
       "interactive(children=(Output(),), _dom_classes=('widget-interact',))"
      ]
     },
     "metadata": {},
     "output_type": "display_data"
    },
    {
     "data": {
      "text/plain": [
       "<function __main__.program()>"
      ]
     },
     "execution_count": 222,
     "metadata": {},
     "output_type": "execute_result"
    }
   ],
   "source": [
    "#Buttons\n",
    "T_suggested = widgets.ToggleButtons(\n",
    "    options=[('900 °C',1173),('1000 °C',1273),('1050 °C',1323), ('1150 °C',1423)],\n",
    "    value=1273,\n",
    "    description = 'T',\n",
    "    disabled=False,\n",
    ") \n",
    "\n",
    "dt_suggested =  widgets.ToggleButtons(\n",
    "    options=[('1s',1),('3s',3), ('5s',5),('10s',10)],\n",
    "    value=5,\n",
    "    description = 'dt',\n",
    "    disabled=False,\n",
    ") \n",
    "\n",
    "\n",
    "def program(): #Interactive buttons and sliders for T and dt \n",
    "    clear_output(wait=True)\n",
    "    interact(plot, T=T_suggested, dt=dt_suggested)\n",
    "\n",
    "interact(program)"
   ]
  },
  {
   "cell_type": "markdown",
   "metadata": {},
   "source": [
    "The dashed lines are the numerical concentrations while the solid lines are the analytical concentrations."
   ]
  },
  {
   "cell_type": "code",
   "execution_count": null,
   "metadata": {},
   "outputs": [],
   "source": []
  }
 ],
 "metadata": {
  "kernelspec": {
   "display_name": "Python 3",
   "language": "python",
   "name": "python3"
  },
  "language_info": {
   "codemirror_mode": {
    "name": "ipython",
    "version": 3
   },
   "file_extension": ".py",
   "mimetype": "text/x-python",
   "name": "python",
   "nbconvert_exporter": "python",
   "pygments_lexer": "ipython3",
   "version": "3.8.3"
  }
 },
 "nbformat": 4,
 "nbformat_minor": 4
}
